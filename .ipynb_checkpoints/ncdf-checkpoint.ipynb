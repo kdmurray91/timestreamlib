{
 "metadata": {
  "name": "",
  "signature": "sha256:67f5a163c54d4d3fd9fbff9bc5b610812434ffa30076c0532cb196b1d5fdfb72"
 },
 "nbformat": 3,
 "nbformat_minor": 0,
 "worksheets": []
}
{
 "metadata": {
  "name": "",
  "signature": "sha256:b21aa41bf02213a02ab2ee40cf391f9bedc1879e94ab95e7c3a3fc4c43d60ee8"
 },
 "nbformat": 3,
 "nbformat_minor": 0,
 "worksheets": [
  {
   "cells": [
    {
     "cell_type": "code",
     "collapsed": false,
     "input": [
      "import netCDF4 as ncdf\n",
      "from timestream.parse import ts_iter_images\n",
      "from timestream.parse import ts_iter_numpy\n",
      "from timestream.parse import ts_parse_date_path\n",
      "from netCDF4 import num2date, date2num, date2index"
     ],
     "language": "python",
     "metadata": {},
     "outputs": [],
     "prompt_number": 1
    },
    {
     "cell_type": "code",
     "collapsed": false,
     "input": [
      "root = ncdf.Dataset(\"./good.cdf4\", 'w', format=\"NETCDF4\")\n",
      "print root.file_format"
     ],
     "language": "python",
     "metadata": {},
     "outputs": [
      {
       "output_type": "stream",
       "stream": "stdout",
       "text": [
        "NETCDF4\n"
       ]
      }
     ],
     "prompt_number": 2
    },
    {
     "cell_type": "code",
     "collapsed": false,
     "input": [
      "ts = root.createGroup('timestream')\n",
      "dimx = root.createDimension('x', 5184)\n",
      "dimy = root.createDimension('y', 3456)\n",
      "dimz = root.createDimension('z', 3)\n",
      "dimt = root.createDimension('t', None)"
     ],
     "language": "python",
     "metadata": {},
     "outputs": [],
     "prompt_number": 3
    },
    {
     "cell_type": "code",
     "collapsed": false,
     "input": [
      "times = root.createVariable(\"time\", 'u8', ('t',))\n",
      "times.units = \"seconds since 1970-01-01 00:00:00.0\"\n",
      "times.calendar = \"standard\"\n",
      "zs = root.createVariable(\"z\", 'u1', ('z',))\n",
      "ys = root.createVariable(\"y\", 'u4', ('y',))\n",
      "xs = root.createVariable(\"x\", 'u4', ('x',))\n",
      "pixels = root.createVariable(\"pixel\", 'u1', ('t', 'y', 'x', 'z'), zlib=True)"
     ],
     "language": "python",
     "metadata": {},
     "outputs": [],
     "prompt_number": 4
    },
    {
     "cell_type": "code",
     "collapsed": false,
     "input": [
      "imgs = ts_iter_images(\"./tests/data/timestreams/BVZ0022-GC05L-CN650D-Cam07~fullres-orig/\")\n",
      "mats = ts_iter_numpy(imgs)"
     ],
     "language": "python",
     "metadata": {},
     "outputs": [],
     "prompt_number": 5
    },
    {
     "cell_type": "code",
     "collapsed": true,
     "input": [
      "for img, mat in mats:\n",
      "    n_dates = len(root.dimensions['t'])\n",
      "    time = ts_parse_date_path(img)\n",
      "    times[n_dates] = date2num([time,], units=times.units,calendar=times.calendar)\n",
      "    #mat = mat[np.newaxis,:,:,:]\n",
      "    print mat.shape\n",
      "    print pixels[n_dates, :, :, :].shape\n",
      "    pixels[n_dates, :, :, :] = mat\n",
      "    print pixels"
     ],
     "language": "python",
     "metadata": {},
     "outputs": [
      {
       "output_type": "stream",
       "stream": "stdout",
       "text": [
        "(3456, 5184, 3)\n",
        "(3456, 5184, 3)"
       ]
      },
      {
       "output_type": "stream",
       "stream": "stdout",
       "text": [
        "\n",
        "<type 'netCDF4.Variable'>\n",
        "uint8 pixel(t, y, x, z)\n",
        "unlimited dimensions: t\n",
        "current shape = (1, 3456, 5184, 3)\n",
        "filling on, default _FillValue of 255 ignored\n"
       ]
      },
      {
       "output_type": "stream",
       "stream": "stdout",
       "text": [
        "\n",
        "(3456, 5184, 3)"
       ]
      },
      {
       "output_type": "stream",
       "stream": "stdout",
       "text": [
        "\n",
        "(3456, 5184, 3)"
       ]
      },
      {
       "output_type": "stream",
       "stream": "stdout",
       "text": [
        "\n",
        "<type 'netCDF4.Variable'>\n",
        "uint8 pixel(t, y, x, z)\n",
        "unlimited dimensions: t\n",
        "current shape = (2, 3456, 5184, 3)\n",
        "filling on, default _FillValue of 255 ignored\n"
       ]
      },
      {
       "output_type": "stream",
       "stream": "stdout",
       "text": [
        "\n",
        "(3456, 5184, 3)"
       ]
      },
      {
       "output_type": "stream",
       "stream": "stdout",
       "text": [
        "\n",
        "(3456, 5184, 3)"
       ]
      },
      {
       "output_type": "stream",
       "stream": "stdout",
       "text": [
        "\n",
        "<type 'netCDF4.Variable'>\n",
        "uint8 pixel(t, y, x, z)\n",
        "unlimited dimensions: t\n",
        "current shape = (3, 3456, 5184, 3)\n",
        "filling on, default _FillValue of 255 ignored\n"
       ]
      },
      {
       "output_type": "stream",
       "stream": "stdout",
       "text": [
        "\n",
        "(3456, 5184, 3)"
       ]
      },
      {
       "output_type": "stream",
       "stream": "stdout",
       "text": [
        "\n",
        "(3456, 5184, 3)"
       ]
      },
      {
       "output_type": "stream",
       "stream": "stdout",
       "text": [
        "\n",
        "<type 'netCDF4.Variable'>\n",
        "uint8 pixel(t, y, x, z)\n",
        "unlimited dimensions: t\n",
        "current shape = (4, 3456, 5184, 3)\n",
        "filling on, default _FillValue of 255 ignored\n"
       ]
      },
      {
       "output_type": "stream",
       "stream": "stdout",
       "text": [
        "\n",
        "(3456, 5184, 3)"
       ]
      },
      {
       "output_type": "stream",
       "stream": "stdout",
       "text": [
        "\n",
        "(3456, 5184, 3)"
       ]
      },
      {
       "output_type": "stream",
       "stream": "stdout",
       "text": [
        "\n",
        "<type 'netCDF4.Variable'>\n",
        "uint8 pixel(t, y, x, z)\n",
        "unlimited dimensions: t\n",
        "current shape = (5, 3456, 5184, 3)\n",
        "filling on, default _FillValue of 255 ignored\n"
       ]
      },
      {
       "output_type": "stream",
       "stream": "stdout",
       "text": [
        "\n",
        "(3456, 5184, 3)"
       ]
      },
      {
       "output_type": "stream",
       "stream": "stdout",
       "text": [
        "\n",
        "(3456, 5184, 3)"
       ]
      },
      {
       "output_type": "stream",
       "stream": "stdout",
       "text": [
        "\n",
        "<type 'netCDF4.Variable'>\n",
        "uint8 pixel(t, y, x, z)\n",
        "unlimited dimensions: t\n",
        "current shape = (6, 3456, 5184, 3)\n",
        "filling on, default _FillValue of 255 ignored\n"
       ]
      },
      {
       "output_type": "stream",
       "stream": "stdout",
       "text": [
        "\n",
        "(3456, 5184, 3)"
       ]
      },
      {
       "output_type": "stream",
       "stream": "stdout",
       "text": [
        "\n",
        "(3456, 5184, 3)"
       ]
      },
      {
       "output_type": "stream",
       "stream": "stdout",
       "text": [
        "\n",
        "<type 'netCDF4.Variable'>\n",
        "uint8 pixel(t, y, x, z)\n",
        "unlimited dimensions: t\n",
        "current shape = (7, 3456, 5184, 3)\n",
        "filling on, default _FillValue of 255 ignored\n"
       ]
      },
      {
       "output_type": "stream",
       "stream": "stdout",
       "text": [
        "\n"
       ]
      }
     ],
     "prompt_number": 6
    },
    {
     "cell_type": "code",
     "collapsed": false,
     "input": [
      "root.close()"
     ],
     "language": "python",
     "metadata": {},
     "outputs": [],
     "prompt_number": 7
    },
    {
     "cell_type": "code",
     "collapsed": false,
     "input": [],
     "language": "python",
     "metadata": {},
     "outputs": []
    }
   ],
   "metadata": {}
  }
 ]
}
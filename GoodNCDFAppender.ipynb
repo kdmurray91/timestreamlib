{
 "metadata": {
  "name": "",
  "signature": "sha256:3735016e83af9376546408bc13123c3f31841b6cfb59609e4d5b3dd1d8dd70b4"
 },
 "nbformat": 3,
 "nbformat_minor": 0,
 "worksheets": [
  {
   "cells": [
    {
     "cell_type": "code",
     "collapsed": false,
     "input": [
      "import netCDF4 as ncdf\n",
      "from timestream.parse import ts_iter_images\n",
      "from timestream.parse import ts_iter_numpy\n",
      "from timestream.parse import ts_parse_date_path\n",
      "from netCDF4 import num2date, date2num, date2index"
     ],
     "language": "python",
     "metadata": {},
     "outputs": [],
     "prompt_number": 1
    },
    {
     "cell_type": "code",
     "collapsed": false,
     "input": [
      "root = ncdf.Dataset(\"./good.cdf4\", 'w', format=\"NETCDF4\")\n",
      "print root.file_format"
     ],
     "language": "python",
     "metadata": {},
     "outputs": [
      {
       "output_type": "stream",
       "stream": "stdout",
       "text": [
        "NETCDF4\n"
       ]
      }
     ],
     "prompt_number": 2
    },
    {
     "cell_type": "code",
     "collapsed": false,
     "input": [
      "ts = root.createGroup('timestream')\n",
      "dimx = root.createDimension('x', 5184)\n",
      "dimy = root.createDimension('y', 3456)\n",
      "dimz = root.createDimension('z', 3)\n",
      "dimt = root.createDimension('t', None)"
     ],
     "language": "python",
     "metadata": {},
     "outputs": [],
     "prompt_number": 3
    },
    {
     "cell_type": "code",
     "collapsed": false,
     "input": [
      "times = root.createVariable(\"time\", 'f8', ('t',))\n",
      "times.units = \"seconds since 1970-01-01 00:00:00.0\"\n",
      "times.calendar = \"standard\"\n",
      "zs = root.createVariable(\"z\", 'u1', ('z',))\n",
      "ys = root.createVariable(\"y\", 'u4', ('y',))\n",
      "xs = root.createVariable(\"x\", 'u4', ('x',))\n",
      "pixels = root.createVariable(\"pixel\", 'u1', ('t', 'y', 'x', 'z'), zlib=True)"
     ],
     "language": "python",
     "metadata": {},
     "outputs": [
      {
       "ename": "RuntimeError",
       "evalue": "NetCDF: String match to name in use",
       "output_type": "pyerr",
       "traceback": [
        "\u001b[0;31m---------------------------------------------------------------------------\u001b[0m\n\u001b[0;31mRuntimeError\u001b[0m                              Traceback (most recent call last)",
        "\u001b[0;32m<ipython-input-15-1f6831fb9884>\u001b[0m in \u001b[0;36m<module>\u001b[0;34m()\u001b[0m\n\u001b[0;32m----> 1\u001b[0;31m \u001b[0mtimes\u001b[0m \u001b[0;34m=\u001b[0m \u001b[0mroot\u001b[0m\u001b[0;34m.\u001b[0m\u001b[0mcreateVariable\u001b[0m\u001b[0;34m(\u001b[0m\u001b[0;34m\"time\"\u001b[0m\u001b[0;34m,\u001b[0m \u001b[0;34m'f8'\u001b[0m\u001b[0;34m,\u001b[0m \u001b[0;34m(\u001b[0m\u001b[0;34m't'\u001b[0m\u001b[0;34m,\u001b[0m\u001b[0;34m)\u001b[0m\u001b[0;34m)\u001b[0m\u001b[0;34m\u001b[0m\u001b[0m\n\u001b[0m\u001b[1;32m      2\u001b[0m \u001b[0mtimes\u001b[0m\u001b[0;34m.\u001b[0m\u001b[0munits\u001b[0m \u001b[0;34m=\u001b[0m \u001b[0;34m\"seconds since 1970-01-01 00:00:00.0\"\u001b[0m\u001b[0;34m\u001b[0m\u001b[0m\n\u001b[1;32m      3\u001b[0m \u001b[0mtimes\u001b[0m\u001b[0;34m.\u001b[0m\u001b[0mcalendar\u001b[0m \u001b[0;34m=\u001b[0m \u001b[0;34m\"standard\"\u001b[0m\u001b[0;34m\u001b[0m\u001b[0m\n\u001b[1;32m      4\u001b[0m \u001b[0mzs\u001b[0m \u001b[0;34m=\u001b[0m \u001b[0mroot\u001b[0m\u001b[0;34m.\u001b[0m\u001b[0mcreateVariable\u001b[0m\u001b[0;34m(\u001b[0m\u001b[0;34m\"z\"\u001b[0m\u001b[0;34m,\u001b[0m \u001b[0;34m'u1'\u001b[0m\u001b[0;34m,\u001b[0m \u001b[0;34m(\u001b[0m\u001b[0;34m'z'\u001b[0m\u001b[0;34m,\u001b[0m\u001b[0;34m)\u001b[0m\u001b[0;34m)\u001b[0m\u001b[0;34m\u001b[0m\u001b[0m\n\u001b[1;32m      5\u001b[0m \u001b[0mys\u001b[0m \u001b[0;34m=\u001b[0m \u001b[0mroot\u001b[0m\u001b[0;34m.\u001b[0m\u001b[0mcreateVariable\u001b[0m\u001b[0;34m(\u001b[0m\u001b[0;34m\"y\"\u001b[0m\u001b[0;34m,\u001b[0m \u001b[0;34m'u4'\u001b[0m\u001b[0;34m,\u001b[0m \u001b[0;34m(\u001b[0m\u001b[0;34m'y'\u001b[0m\u001b[0;34m,\u001b[0m\u001b[0;34m)\u001b[0m\u001b[0;34m)\u001b[0m\u001b[0;34m\u001b[0m\u001b[0m\n",
        "\u001b[0;32m/home/kevin/prog/.virtualenvs/netcdf/lib/python2.7/site-packages/netCDF4.so\u001b[0m in \u001b[0;36mnetCDF4.Dataset.createVariable (netCDF4.c:22734)\u001b[0;34m()\u001b[0m\n",
        "\u001b[0;32m/home/kevin/prog/.virtualenvs/netcdf/lib/python2.7/site-packages/netCDF4.so\u001b[0m in \u001b[0;36mnetCDF4.Variable.__init__ (netCDF4.c:29525)\u001b[0;34m()\u001b[0m\n",
        "\u001b[0;31mRuntimeError\u001b[0m: NetCDF: String match to name in use"
       ]
      }
     ],
     "prompt_number": 15
    },
    {
     "cell_type": "code",
     "collapsed": false,
     "input": [
      "imgs = ts_iter_images(\"./tests/data/timestreams/BVZ0022-GC05L-CN650D-Cam07~fullres-orig/\")\n",
      "mats = ts_iter_numpy(imgs)"
     ],
     "language": "python",
     "metadata": {},
     "outputs": [],
     "prompt_number": 16
    },
    {
     "cell_type": "code",
     "collapsed": false,
     "input": [
      "for img, mat in mats:\n",
      "    n_dates = len(root.dimensions['t'])\n",
      "    time = ts_parse_date_path(img)\n",
      "    times[n_dates] = date2num([time,], units=times.units,calendar=times.calendar)\n",
      "    pixels[n_dates, :, :, :] = mat\n",
      "    print pixels.shape\n",
      "    print pixels.size\n",
      "print num2date(times[:],  units=times.units,calendar=times.calendar)"
     ],
     "language": "python",
     "metadata": {},
     "outputs": [
      {
       "output_type": "stream",
       "stream": "stdout",
       "text": [
        "(29, 3456, 5184, 3)\n",
        "1558683648\n",
        "(30, 3456, 5184, 3)"
       ]
      },
      {
       "output_type": "stream",
       "stream": "stdout",
       "text": [
        "\n",
        "1612431360\n",
        "(31, 3456, 5184, 3)"
       ]
      },
      {
       "output_type": "stream",
       "stream": "stdout",
       "text": [
        "\n",
        "1666179072\n",
        "(32, 3456, 5184, 3)"
       ]
      },
      {
       "output_type": "stream",
       "stream": "stdout",
       "text": [
        "\n",
        "1719926784\n",
        "(33, 3456, 5184, 3)"
       ]
      },
      {
       "output_type": "stream",
       "stream": "stdout",
       "text": [
        "\n",
        "1773674496\n",
        "(34, 3456, 5184, 3)"
       ]
      },
      {
       "output_type": "stream",
       "stream": "stdout",
       "text": [
        "\n",
        "1827422208\n",
        "(35, 3456, 5184, 3)"
       ]
      },
      {
       "output_type": "stream",
       "stream": "stdout",
       "text": [
        "\n",
        "1881169920\n",
        "[datetime.datetime(2013, 10, 30, 4, 0)\n",
        " datetime.datetime(2013, 10, 30, 4, 30)\n",
        " datetime.datetime(2013, 10, 30, 5, 30)\n",
        " datetime.datetime(2013, 10, 30, 5, 0)\n",
        " datetime.datetime(2013, 10, 30, 3, 30)\n",
        " datetime.datetime(2013, 10, 30, 3, 0)\n",
        " datetime.datetime(2013, 10, 30, 6, 0)\n",
        " datetime.datetime(2013, 10, 30, 4, 0)\n",
        " datetime.datetime(2013, 10, 30, 4, 30)\n",
        " datetime.datetime(2013, 10, 30, 5, 30)\n",
        " datetime.datetime(2013, 10, 30, 5, 0)\n",
        " datetime.datetime(2013, 10, 30, 3, 30)\n",
        " datetime.datetime(2013, 10, 30, 3, 0)\n",
        " datetime.datetime(2013, 10, 30, 6, 0)\n",
        " datetime.datetime(2013, 10, 30, 4, 0)\n",
        " datetime.datetime(2013, 10, 30, 4, 30)\n",
        " datetime.datetime(2013, 10, 30, 5, 30)\n",
        " datetime.datetime(2013, 10, 30, 5, 0)\n",
        " datetime.datetime(2013, 10, 30, 3, 30)\n",
        " datetime.datetime(2013, 10, 30, 3, 0)\n",
        " datetime.datetime(2013, 10, 30, 6, 0)\n",
        " datetime.datetime(2013, 10, 30, 4, 0)\n",
        " datetime.datetime(2013, 10, 30, 4, 30)\n",
        " datetime.datetime(2013, 10, 30, 5, 30)\n",
        " datetime.datetime(2013, 10, 30, 5, 0)\n",
        " datetime.datetime(2013, 10, 30, 3, 30)\n",
        " datetime.datetime(2013, 10, 30, 3, 0)\n",
        " datetime.datetime(2013, 10, 30, 6, 0)\n",
        " datetime.datetime(2013, 10, 30, 4, 0)\n",
        " datetime.datetime(2013, 10, 30, 4, 30)\n",
        " datetime.datetime(2013, 10, 30, 5, 30)\n",
        " datetime.datetime(2013, 10, 30, 5, 0)\n",
        " datetime.datetime(2013, 10, 30, 3, 30)\n",
        " datetime.datetime(2013, 10, 30, 3, 0)\n",
        " datetime.datetime(2013, 10, 30, 6, 0)]\n"
       ]
      }
     ],
     "prompt_number": 17
    },
    {
     "cell_type": "code",
     "collapsed": false,
     "input": [
      "root.close()"
     ],
     "language": "python",
     "metadata": {},
     "outputs": [],
     "prompt_number": 18
    },
    {
     "cell_type": "code",
     "collapsed": false,
     "input": [],
     "language": "python",
     "metadata": {},
     "outputs": []
    }
   ],
   "metadata": {}
  }
 ]
}